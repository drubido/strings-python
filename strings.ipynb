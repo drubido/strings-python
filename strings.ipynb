{
 "cells": [
  {
   "cell_type": "markdown",
   "metadata": {},
   "source": [
    "# Strings in Python"
   ]
  },
  {
   "cell_type": "markdown",
   "metadata": {},
   "source": [
    "### 1.1 Declaring a String"
   ]
  },
  {
   "cell_type": "code",
   "execution_count": 2,
   "metadata": {},
   "outputs": [],
   "source": [
    "myName = \"Carlos\"\n",
    "myLastName = 'Rubido'"
   ]
  },
  {
   "cell_type": "code",
   "execution_count": 3,
   "metadata": {},
   "outputs": [
    {
     "name": "stdout",
     "output_type": "stream",
     "text": [
      "My full name is: Carlos Rubido\n"
     ]
    }
   ],
   "source": [
    "print (\"My full name is: \" + myName + \" \" + myLastName)"
   ]
  },
  {
   "cell_type": "code",
   "execution_count": 4,
   "metadata": {},
   "outputs": [
    {
     "name": "stdout",
     "output_type": "stream",
     "text": [
      "\"Time is money!\"\n"
     ]
    }
   ],
   "source": [
    "mySentence = '\"Time is money!\"'\n",
    "print (mySentence)"
   ]
  },
  {
   "cell_type": "markdown",
   "metadata": {},
   "source": [
    "### 1.2 Special characters"
   ]
  },
  {
   "cell_type": "code",
   "execution_count": 8,
   "metadata": {},
   "outputs": [
    {
     "name": "stdout",
     "output_type": "stream",
     "text": [
      "12345\n",
      "67890\n"
     ]
    }
   ],
   "source": [
    "myStringWithNewLine = \"12345\\n67890\" # \\n adds a new line to my string\n",
    "print (myStringWithNewLine)"
   ]
  },
  {
   "cell_type": "code",
   "execution_count": 10,
   "metadata": {},
   "outputs": [
    {
     "name": "stdout",
     "output_type": "stream",
     "text": [
      "12345\n",
      "67890\tabcde\"fghijklm\\no\n"
     ]
    }
   ],
   "source": [
    "myStringWithCharacters = \"12345\\n67890\\tabcde\\\"fghijklm\\\\no\" # \\tab inserts a tap in the string, \\ + ending character\n",
    "print(myStringWithCharacters) # Tells python to include ending character in string, \\\\ inserts \\"
   ]
  },
  {
   "cell_type": "code",
   "execution_count": 11,
   "metadata": {},
   "outputs": [
    {
     "name": "stdout",
     "output_type": "stream",
     "text": [
      "12345\n",
      "67890\n"
     ]
    }
   ],
   "source": [
    "myString = '''12345\n",
    "67890''' # ''' Force python to interprete everything as part of the string until it reaches another '''\n",
    "print(myString)"
   ]
  },
  {
   "cell_type": "markdown",
   "metadata": {},
   "source": [
    "### 1.3 String concatenation and string slicing"
   ]
  },
  {
   "cell_type": "code",
   "execution_count": 13,
   "metadata": {},
   "outputs": [
    {
     "name": "stdout",
     "output_type": "stream",
     "text": [
      "Assignment concaeination: 1234567890\n",
      "In line concatenation: 1234567890\n",
      "Self-Assignment concatenation: 1234567890\n"
     ]
    }
   ],
   "source": [
    "myString1 = \"12345\"\n",
    "myString2 = \"67890\"\n",
    "myString3 = myString1 + myString2\n",
    "print(\"Assignment concaeination: \" + myString3)\n",
    "print(\"In line concatenation: \" + myString1 + myString2)\n",
    "myString1 += myString2 \n",
    "print(\"Self-Assignment concatenation: \" + myString1)"
   ]
  },
  {
   "cell_type": "markdown",
   "metadata": {},
   "source": [
    "Strings in python can be also seem like list of characters."
   ]
  },
  {
   "cell_type": "code",
   "execution_count": 15,
   "metadata": {},
   "outputs": [
    {
     "name": "stdout",
     "output_type": "stream",
     "text": [
      "e\n",
      "L\n",
      "!\n"
     ]
    }
   ],
   "source": [
    "aString = \"Learning Python can be a long journey!\"\n",
    "print(aString[1])\n",
    "print(aString[0])\n",
    "print(aString[-1])"
   ]
  },
  {
   "cell_type": "markdown",
   "metadata": {},
   "source": [
    "Since string are treated as list of character it is possible to use the len() function to get the lenght of a string."
   ]
  },
  {
   "cell_type": "code",
   "execution_count": 16,
   "metadata": {},
   "outputs": [
    {
     "name": "stdout",
     "output_type": "stream",
     "text": [
      "38\n"
     ]
    }
   ],
   "source": [
    "print(len(aString))"
   ]
  },
  {
   "cell_type": "markdown",
   "metadata": {},
   "source": [
    "You can also access more than one character in a tring at a time."
   ]
  },
  {
   "cell_type": "code",
   "execution_count": 17,
   "metadata": {},
   "outputs": [
    {
     "name": "stdout",
     "output_type": "stream",
     "text": [
      "nin\n"
     ]
    }
   ],
   "source": [
    "print(aString[4:7])"
   ]
  },
  {
   "cell_type": "markdown",
   "metadata": {},
   "source": [
    "Notice in the syntax [4:7] the first number in this case 4 tells python to start slicing at that index (n), and by the same token it includes it. However the second number 7 tell python when to stop the slicing but it is not include in the slicing."
   ]
  },
  {
   "cell_type": "code",
   "execution_count": 18,
   "metadata": {},
   "outputs": [
    {
     "name": "stdout",
     "output_type": "stream",
     "text": [
      "earni\n",
      "be a \n"
     ]
    }
   ],
   "source": [
    "print(aString[1:6])\n",
    "print(aString[20:25])"
   ]
  },
  {
   "cell_type": "markdown",
   "metadata": {},
   "source": [
    "It is also possible to do this indicating Python to step some values using the syntax [start: end: step]. For this particular example given a string with the numbers from 1-9 we want to get all the possible odd numbers in one string name oddString, and all the even numbers in other string call oddString."
   ]
  },
  {
   "cell_type": "code",
   "execution_count": 23,
   "metadata": {},
   "outputs": [
    {
     "name": "stdout",
     "output_type": "stream",
     "text": [
      "13579\n",
      "2468\n"
     ]
    }
   ],
   "source": [
    "myNumsString = \"123456789\"\n",
    "oddString = myNumsString[0:len(myNumsString):2]\n",
    "print(oddString)\n",
    "evenString = myNumsString[1:len(myNumsString):2]\n",
    "print(evenString)"
   ]
  },
  {
   "cell_type": "markdown",
   "metadata": {},
   "source": [
    "Notice how when using the syntax [start:end:step] the end term of the slicing is also included."
   ]
  },
  {
   "cell_type": "markdown",
   "metadata": {},
   "source": [
    "Now lets say we want to print the numbers >= to 5 in a string name gFive, and the numbers <= 5 in a string call lFive. "
   ]
  },
  {
   "cell_type": "code",
   "execution_count": 29,
   "metadata": {},
   "outputs": [
    {
     "name": "stdout",
     "output_type": "stream",
     "text": [
      ">= 5 -> 56789\n",
      "<= 5 -> 12345\n"
     ]
    }
   ],
   "source": [
    "gFive = myNumsString[4:]\n",
    "print(\">= 5 -> \" + gFive)\n",
    "lFive = myNumsString[:5]\n",
    "print(\"<= 5 -> \" + lFive)"
   ]
  },
  {
   "cell_type": "markdown",
   "metadata": {},
   "source": [
    "Notice that when the syntax [start:] is used the starting value is not included however when [:end] is used the end value is included."
   ]
  },
  {
   "cell_type": "markdown",
   "metadata": {},
   "source": [
    "Now lets say we want to print all the numbers divisible by 3 from \"0123456789\"."
   ]
  },
  {
   "cell_type": "code",
   "execution_count": 32,
   "metadata": {},
   "outputs": [
    {
     "name": "stdout",
     "output_type": "stream",
     "text": [
      "0369\n"
     ]
    }
   ],
   "source": [
    "numString = \"0123456789\"\n",
    "divThree = numString[::3]\n",
    "print(divThree)"
   ]
  },
  {
   "cell_type": "markdown",
   "metadata": {},
   "source": [
    "The syntax [::3] tells python to look at the entire string since [start:end] are not specify, and take all values in the indexes 0,3,6,9."
   ]
  },
  {
   "cell_type": "markdown",
   "metadata": {},
   "source": [
    "### 1.4 String searching"
   ]
  },
  {
   "cell_type": "markdown",
   "metadata": {},
   "source": [
    "The in keyword is a boolean operator. When used with string it evaluates to True when \"string1\" is in \"string2\", and by the same token evaluates to False when \"string1\" is not in \"string2\"."
   ]
  },
  {
   "cell_type": "code",
   "execution_count": 33,
   "metadata": {},
   "outputs": [
    {
     "name": "stdout",
     "output_type": "stream",
     "text": [
      "BC was found.\n",
      "EF not found.\n"
     ]
    }
   ],
   "source": [
    "letters = \"ABCD\"\n",
    "if \"BC\" in letters:\n",
    "    print(\"BC was found.\")\n",
    "else:\n",
    "    print(\"BC not found.\")\n",
    "    \n",
    "if \"EF\" in letters:\n",
    "    print(\"EF was found.\")\n",
    "else:\n",
    "    print(\"EF not found.\")"
   ]
  },
  {
   "cell_type": "markdown",
   "metadata": {},
   "source": [
    "Sometimes we not only one to find a particular string inside a string or a particular character. In some cases we also want to know where this string or particular character was found.\n",
    "For this we have the find() method, find() returns the first index in which the string was found, and in the case of not finding the string it returns -1."
   ]
  },
  {
   "cell_type": "code",
   "execution_count": null,
   "metadata": {},
   "outputs": [],
   "source": [
    "capLetters = \"ABCDEFGHIJKLMNOPQRSTUVWXYZ\""
   ]
  }
 ],
 "metadata": {
  "kernelspec": {
   "display_name": "Python 3",
   "language": "python",
   "name": "python3"
  },
  "language_info": {
   "codemirror_mode": {
    "name": "ipython",
    "version": 3
   },
   "file_extension": ".py",
   "mimetype": "text/x-python",
   "name": "python",
   "nbconvert_exporter": "python",
   "pygments_lexer": "ipython3",
   "version": "3.7.0"
  }
 },
 "nbformat": 4,
 "nbformat_minor": 2
}
